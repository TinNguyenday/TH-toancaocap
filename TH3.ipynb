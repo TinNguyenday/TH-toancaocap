{
  "nbformat": 4,
  "nbformat_minor": 0,
  "metadata": {
    "colab": {
      "name": "TH3.ipynb",
      "provenance": [],
      "authorship_tag": "ABX9TyNFU7/9WjwIhI4iFsUCPbpW",
      "include_colab_link": true
    },
    "kernelspec": {
      "name": "python3",
      "display_name": "Python 3"
    },
    "language_info": {
      "name": "python"
    }
  },
  "cells": [
    {
      "cell_type": "markdown",
      "metadata": {
        "id": "view-in-github",
        "colab_type": "text"
      },
      "source": [
        "<a href=\"https://colab.research.google.com/github/TinNguyenday/TH-toancaocap/blob/main/TH3.ipynb\" target=\"_parent\"><img src=\"https://colab.research.google.com/assets/colab-badge.svg\" alt=\"Open In Colab\"/></a>"
      ]
    },
    {
      "cell_type": "code",
      "execution_count": 3,
      "metadata": {
        "id": "dA5rz76e36g7"
      },
      "outputs": [],
      "source": [
        "def luythua(x,n):\n",
        "  ketqua= 1 \n",
        "  for i in range(n):\n",
        "    ketqua = ketqua*x\n",
        "  return ketqua"
      ]
    },
    {
      "cell_type": "code",
      "source": [
        "luythua(2,1)"
      ],
      "metadata": {
        "colab": {
          "base_uri": "https://localhost:8080/"
        },
        "id": "BiNeuH5_4CyO",
        "outputId": "376054a8-287e-4330-d9cc-ad17d7fcde4e"
      },
      "execution_count": 4,
      "outputs": [
        {
          "output_type": "execute_result",
          "data": {
            "text/plain": [
              "2"
            ]
          },
          "metadata": {},
          "execution_count": 4
        }
      ]
    },
    {
      "cell_type": "code",
      "source": [
        "luythua(2,0)"
      ],
      "metadata": {
        "colab": {
          "base_uri": "https://localhost:8080/"
        },
        "id": "JIWSxnE54Kh_",
        "outputId": "82bbd742-ca34-4ccd-da61-1e0e467a1ee4"
      },
      "execution_count": 5,
      "outputs": [
        {
          "output_type": "execute_result",
          "data": {
            "text/plain": [
              "1"
            ]
          },
          "metadata": {},
          "execution_count": 5
        }
      ]
    },
    {
      "cell_type": "code",
      "source": [
        "while 1 = 1\n"
      ],
      "metadata": {
        "colab": {
          "base_uri": "https://localhost:8080/",
          "height": 131
        },
        "id": "85G-4mc04O6J",
        "outputId": "ae1a1a87-260b-486b-cc3b-36999833b657"
      },
      "execution_count": 9,
      "outputs": [
        {
          "output_type": "error",
          "ename": "SyntaxError",
          "evalue": "ignored",
          "traceback": [
            "\u001b[0;36m  File \u001b[0;32m\"<ipython-input-9-8baeb836846f>\"\u001b[0;36m, line \u001b[0;32m1\u001b[0m\n\u001b[0;31m    while 1 = 1\u001b[0m\n\u001b[0m            ^\u001b[0m\n\u001b[0;31mSyntaxError\u001b[0m\u001b[0;31m:\u001b[0m invalid syntax\n"
          ]
        }
      ]
    },
    {
      "cell_type": "code",
      "source": [
        "10*(1/0)"
      ],
      "metadata": {
        "colab": {
          "base_uri": "https://localhost:8080/",
          "height": 166
        },
        "id": "f8QHp8cv4g_f",
        "outputId": "99b48d69-de37-41f3-c083-b7411597c580"
      },
      "execution_count": 10,
      "outputs": [
        {
          "output_type": "error",
          "ename": "ZeroDivisionError",
          "evalue": "ignored",
          "traceback": [
            "\u001b[0;31m---------------------------------------------------------------------------\u001b[0m",
            "\u001b[0;31mZeroDivisionError\u001b[0m                         Traceback (most recent call last)",
            "\u001b[0;32m<ipython-input-10-fbc7e86ae71a>\u001b[0m in \u001b[0;36m<module>\u001b[0;34m()\u001b[0m\n\u001b[0;32m----> 1\u001b[0;31m \u001b[0;36m10\u001b[0m\u001b[0;34m*\u001b[0m\u001b[0;34m(\u001b[0m\u001b[0;36m1\u001b[0m\u001b[0;34m/\u001b[0m\u001b[0;36m0\u001b[0m\u001b[0;34m)\u001b[0m\u001b[0;34m\u001b[0m\u001b[0;34m\u001b[0m\u001b[0m\n\u001b[0m",
            "\u001b[0;31mZeroDivisionError\u001b[0m: division by zero"
          ]
        }
      ]
    },
    {
      "cell_type": "code",
      "source": [
        "x = int(input(\"vui long nhap so :\"))\n"
      ],
      "metadata": {
        "colab": {
          "base_uri": "https://localhost:8080/"
        },
        "id": "WLmlizYV4iiO",
        "outputId": "68cfacae-27bf-4ea7-d6ea-5ab1c6e19084"
      },
      "execution_count": 11,
      "outputs": [
        {
          "name": "stdout",
          "output_type": "stream",
          "text": [
            "vui long nhap so :2\n"
          ]
        }
      ]
    },
    {
      "cell_type": "code",
      "source": [
        "    try:\n",
        "      x = int(input('vui long nhap so :'))\n",
        "    except:\n",
        "      print ('so vua nhap sai')\n",
        "    else:\n",
        "      print ('so vua nhap la'+str(x))\n",
        "      break\n",
        "    finally:\n",
        "      print ('da hoan thanh chuong trinh')while True:"
      ],
      "metadata": {
        "colab": {
          "base_uri": "https://localhost:8080/",
          "height": 131
        },
        "id": "q17p-FD74tBK",
        "outputId": "1241ddf1-3e5d-4527-ff5b-34743581d3ef"
      },
      "execution_count": 15,
      "outputs": [
        {
          "output_type": "error",
          "ename": "SyntaxError",
          "evalue": "ignored",
          "traceback": [
            "\u001b[0;36m  File \u001b[0;32m\"<ipython-input-15-41d556e593f1>\"\u001b[0;36m, line \u001b[0;32m9\u001b[0m\n\u001b[0;31m    print ('da hoan thanh chuong trinh')while True:\u001b[0m\n\u001b[0m                                            ^\u001b[0m\n\u001b[0;31mSyntaxError\u001b[0m\u001b[0;31m:\u001b[0m invalid syntax\n"
          ]
        }
      ]
    },
    {
      "cell_type": "code",
      "source": [
        "def frange (batdau, ketthuc, buocnhay):\n",
        "  day_ketqua = []\n",
        "  while batdau < ketthuc:\n",
        "    day_ketqua.append(batdau)\n",
        "    batdau = batdau + buocnhay\n",
        "  return day_ketqua\n",
        "  "
      ],
      "metadata": {
        "id": "TUCmI1jC5Vpi"
      },
      "execution_count": 16,
      "outputs": []
    },
    {
      "cell_type": "code",
      "source": [
        "tu2den12 = frange(2 , 12, 0.2)\n",
        "tu2den12"
      ],
      "metadata": {
        "colab": {
          "base_uri": "https://localhost:8080/"
        },
        "id": "8oS4zKRF5VkT",
        "outputId": "c76cb389-0066-4f5f-86e8-50f1bab10829"
      },
      "execution_count": 17,
      "outputs": [
        {
          "output_type": "execute_result",
          "data": {
            "text/plain": [
              "[2,\n",
              " 2.2,\n",
              " 2.4000000000000004,\n",
              " 2.6000000000000005,\n",
              " 2.8000000000000007,\n",
              " 3.000000000000001,\n",
              " 3.200000000000001,\n",
              " 3.4000000000000012,\n",
              " 3.6000000000000014,\n",
              " 3.8000000000000016,\n",
              " 4.000000000000002,\n",
              " 4.200000000000002,\n",
              " 4.400000000000002,\n",
              " 4.600000000000002,\n",
              " 4.8000000000000025,\n",
              " 5.000000000000003,\n",
              " 5.200000000000003,\n",
              " 5.400000000000003,\n",
              " 5.600000000000003,\n",
              " 5.800000000000003,\n",
              " 6.0000000000000036,\n",
              " 6.200000000000004,\n",
              " 6.400000000000004,\n",
              " 6.600000000000004,\n",
              " 6.800000000000004,\n",
              " 7.000000000000004,\n",
              " 7.200000000000005,\n",
              " 7.400000000000005,\n",
              " 7.600000000000005,\n",
              " 7.800000000000005,\n",
              " 8.000000000000005,\n",
              " 8.200000000000005,\n",
              " 8.400000000000004,\n",
              " 8.600000000000003,\n",
              " 8.800000000000002,\n",
              " 9.000000000000002,\n",
              " 9.200000000000001,\n",
              " 9.4,\n",
              " 9.6,\n",
              " 9.799999999999999,\n",
              " 9.999999999999998,\n",
              " 10.199999999999998,\n",
              " 10.399999999999997,\n",
              " 10.599999999999996,\n",
              " 10.799999999999995,\n",
              " 10.999999999999995,\n",
              " 11.199999999999994,\n",
              " 11.399999999999993,\n",
              " 11.599999999999993,\n",
              " 11.799999999999992,\n",
              " 11.999999999999991]"
            ]
          },
          "metadata": {},
          "execution_count": 17
        }
      ]
    },
    {
      "cell_type": "code",
      "source": [
        "from matplotlib import pyplot as plt \n",
        "import math"
      ],
      "metadata": {
        "id": "MDl9Ex6l5b52"
      },
      "execution_count": 18,
      "outputs": []
    },
    {
      "cell_type": "code",
      "source": [
        "import numbers\n",
        "from matplotlib.transforms import interval_contains\n",
        "def draw_graph(x,y):\n",
        "  plt.plot(x,y)\n",
        "  plt.xlabel ('Truc X ')\n",
        "  plt.ylabel ('Truc Y ')\n",
        "  plt.title (' do thi bai toan nem qua bong ')\n",
        "def frange (start , final , interval):\n",
        "  number = []\n",
        "  while start < final:\n",
        "    numbers.append(start)\n",
        "    start = start + interval\n",
        "  return numbers\n",
        "def draw_trajectory(u,theta):\n",
        "  #gia toc trong truong\n",
        "  g = 9.8\n",
        "  #goc bay \n",
        "  theta = math.radians(theta )\n",
        "  #thời gian bay :\n",
        "  t_flight = 2 * u * math.sin(theta)/g\n",
        "  #tinh toan khoang cách thơi gian \n",
        "  intervals = frange(0,t_flight,0.001)\n",
        "  #danh sach toa độ x va y \n",
        "  x = []\n",
        "  y = []\n",
        "  for t in intervals:\n",
        "    x.append(u*math*cos(theta)*t)\n",
        "    y.append(u*math*sin(theta)*t - 0.5*g*t*t)\n",
        "    draw_graph(x,y)"
      ],
      "metadata": {
        "id": "lZl_zKZs5fOD"
      },
      "execution_count": 19,
      "outputs": []
    }
  ]
}