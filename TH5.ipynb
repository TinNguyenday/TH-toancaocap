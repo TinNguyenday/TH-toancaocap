{
  "nbformat": 4,
  "nbformat_minor": 0,
  "metadata": {
    "colab": {
      "name": "TH5.ipynb",
      "provenance": [],
      "authorship_tag": "ABX9TyNr5NeJISlnmqDHbGo22QmI",
      "include_colab_link": true
    },
    "kernelspec": {
      "name": "python3",
      "display_name": "Python 3"
    },
    "language_info": {
      "name": "python"
    }
  },
  "cells": [
    {
      "cell_type": "markdown",
      "metadata": {
        "id": "view-in-github",
        "colab_type": "text"
      },
      "source": [
        "<a href=\"https://colab.research.google.com/github/TinNguyenday/TH-toancaocap/blob/main/TH5.ipynb\" target=\"_parent\"><img src=\"https://colab.research.google.com/assets/colab-badge.svg\" alt=\"Open In Colab\"/></a>"
      ]
    },
    {
      "cell_type": "markdown",
      "source": [
        "TH1\n"
      ],
      "metadata": {
        "id": "3ni383eXIV11"
      }
    },
    {
      "cell_type": "code",
      "source": [
        "\n",
        "x= 3 \n",
        "print (x)"
      ],
      "metadata": {
        "colab": {
          "base_uri": "https://localhost:8080/"
        },
        "id": "-2sR2r6hIZ1D",
        "outputId": "f84ada64-e560-495c-f4d5-063535189a32"
      },
      "execution_count": 1,
      "outputs": [
        {
          "output_type": "stream",
          "name": "stdout",
          "text": [
            "3\n"
          ]
        }
      ]
    },
    {
      "cell_type": "code",
      "source": [
        "import math\n",
        "x = math.sqrt(1+x)\n",
        "print (x)"
      ],
      "metadata": {
        "colab": {
          "base_uri": "https://localhost:8080/"
        },
        "id": "GzU2Mek4Ija4",
        "outputId": "aa28e3fa-c363-4c88-d1fe-747799dc5d2d"
      },
      "execution_count": 2,
      "outputs": [
        {
          "output_type": "stream",
          "name": "stdout",
          "text": [
            "2.0\n"
          ]
        }
      ]
    },
    {
      "cell_type": "markdown",
      "source": [
        "TH2\n"
      ],
      "metadata": {
        "id": "kd977TBLInpL"
      }
    },
    {
      "cell_type": "code",
      "source": [
        "x = 3\n",
        "lap = 1 \n",
        "while (x!= math.sqrt (x+ 1)):\n",
        "  x = math.sqrt(x +1 )\n",
        "  lap + lap + 1"
      ],
      "metadata": {
        "id": "_R1lxn64IpCM"
      },
      "execution_count": 3,
      "outputs": []
    },
    {
      "cell_type": "code",
      "source": [
        "print(x)"
      ],
      "metadata": {
        "colab": {
          "base_uri": "https://localhost:8080/"
        },
        "id": "JdLOJQx-Iv87",
        "outputId": "e16707bc-864b-4dc7-89bf-a955f070e8bb"
      },
      "execution_count": 4,
      "outputs": [
        {
          "output_type": "stream",
          "name": "stdout",
          "text": [
            "1.618033988749895\n"
          ]
        }
      ]
    },
    {
      "cell_type": "code",
      "source": [
        "print(lap)"
      ],
      "metadata": {
        "colab": {
          "base_uri": "https://localhost:8080/"
        },
        "id": "m8d1_2IWI7Ky",
        "outputId": "95b2493e-59d2-437e-af67-5c4eb24fb8ff"
      },
      "execution_count": 6,
      "outputs": [
        {
          "output_type": "stream",
          "name": "stdout",
          "text": [
            "1\n"
          ]
        }
      ]
    },
    {
      "cell_type": "markdown",
      "source": [
        "TH3\n"
      ],
      "metadata": {
        "id": "5HrgOpaMJBAS"
      }
    },
    {
      "cell_type": "code",
      "source": [
        "  from sympy.core.singleton import S\n",
        "import sympy as sp \n",
        "from sympy import Symbol\n",
        "x = Symbol('x')\n",
        "sp.solve(x-sp.sqrt(1+x),x)"
      ],
      "metadata": {
        "colab": {
          "base_uri": "https://localhost:8080/"
        },
        "id": "ppSjn-nXJB1L",
        "outputId": "ea210548-0b0b-4292-fbb7-155676eb7941"
      },
      "execution_count": 7,
      "outputs": [
        {
          "output_type": "execute_result",
          "data": {
            "text/plain": [
              "[1/2 + sqrt(5)/2]"
            ]
          },
          "metadata": {},
          "execution_count": 7
        }
      ]
    },
    {
      "cell_type": "markdown",
      "source": [
        "TH4"
      ],
      "metadata": {
        "id": "qk573pFVJH80"
      }
    },
    {
      "cell_type": "code",
      "source": [
        "import numpy as np\n",
        "v1 = np.array([1.,2.,3.]) # tạo vecto 3 chiều\n",
        "v2 = np.array ([2.,1.,0.])\n",
        "# cộng vecto\n",
        "v3 = v1 + v2 \n",
        "print (v3)"
      ],
      "metadata": {
        "colab": {
          "base_uri": "https://localhost:8080/"
        },
        "id": "aGLWKtUBJJCS",
        "outputId": "c1f46555-a8fa-42f5-fb06-a276a8880f1f"
      },
      "execution_count": 8,
      "outputs": [
        {
          "output_type": "stream",
          "name": "stdout",
          "text": [
            "[3. 3. 3.]\n"
          ]
        }
      ]
    },
    {
      "cell_type": "markdown",
      "source": [
        "thực hiện phép toán các vecto"
      ],
      "metadata": {
        "id": "axWIXbloJTMN"
      }
    },
    {
      "cell_type": "code",
      "source": [
        "3*v1 + 2*v2"
      ],
      "metadata": {
        "colab": {
          "base_uri": "https://localhost:8080/"
        },
        "id": "PDGTXmU3JYkc",
        "outputId": "c1e4ba1a-13b3-46e6-9801-32cf16da44a8"
      },
      "execution_count": 9,
      "outputs": [
        {
          "output_type": "execute_result",
          "data": {
            "text/plain": [
              "array([7., 8., 9.])"
            ]
          },
          "metadata": {},
          "execution_count": 9
        }
      ]
    },
    {
      "cell_type": "code",
      "source": [
        "[1,2,3]+[2,1,0]\n"
      ],
      "metadata": {
        "colab": {
          "base_uri": "https://localhost:8080/"
        },
        "id": "i6ptxo65JeGi",
        "outputId": "a161ca9e-a552-4af4-f651-d7c5001ca365"
      },
      "execution_count": 10,
      "outputs": [
        {
          "output_type": "execute_result",
          "data": {
            "text/plain": [
              "[1, 2, 3, 2, 1, 0]"
            ]
          },
          "metadata": {},
          "execution_count": 10
        }
      ]
    },
    {
      "cell_type": "code",
      "source": [
        "3*[1,2,3]+2*[2,1,0]\n"
      ],
      "metadata": {
        "colab": {
          "base_uri": "https://localhost:8080/"
        },
        "id": "QRxffF6ZJhES",
        "outputId": "4a318546-258a-4fcd-91a2-3b8a742a57fe"
      },
      "execution_count": 11,
      "outputs": [
        {
          "output_type": "execute_result",
          "data": {
            "text/plain": [
              "[1, 2, 3, 1, 2, 3, 1, 2, 3, 2, 1, 0, 2, 1, 0]"
            ]
          },
          "metadata": {},
          "execution_count": 11
        }
      ]
    },
    {
      "cell_type": "markdown",
      "source": [
        "ghép nối các vecto"
      ],
      "metadata": {
        "id": "aHHmKDgfJopK"
      }
    },
    {
      "cell_type": "code",
      "source": [
        "v4 = np.hstack([v1, v2 ])\n",
        "v4"
      ],
      "metadata": {
        "colab": {
          "base_uri": "https://localhost:8080/"
        },
        "id": "6QlpvL2VJqW1",
        "outputId": "0c42500b-64c6-47a6-c470-f59cc647ddcf"
      },
      "execution_count": 12,
      "outputs": [
        {
          "output_type": "execute_result",
          "data": {
            "text/plain": [
              "array([1., 2., 3., 2., 1., 0.])"
            ]
          },
          "metadata": {},
          "execution_count": 12
        }
      ]
    },
    {
      "cell_type": "markdown",
      "source": [
        "nhân vô hướng 2 vecto"
      ],
      "metadata": {
        "id": "Nhp6gi2lJuLe"
      }
    },
    {
      "cell_type": "code",
      "source": [
        "np.dot(v1,v2)\n"
      ],
      "metadata": {
        "colab": {
          "base_uri": "https://localhost:8080/"
        },
        "id": "NUTdlCq8Jxw2",
        "outputId": "812698ad-0955-4b9f-81ff-4cfe9a388c8e"
      },
      "execution_count": 13,
      "outputs": [
        {
          "output_type": "execute_result",
          "data": {
            "text/plain": [
              "4.0"
            ]
          },
          "metadata": {},
          "execution_count": 13
        }
      ]
    },
    {
      "cell_type": "markdown",
      "source": [
        "tính sin của vecto"
      ],
      "metadata": {
        "id": "UWfI9BJ5J2j5"
      }
    },
    {
      "cell_type": "code",
      "source": [
        "angles = np.linspace(0, np.pi/2, 3 )\n",
        "angles"
      ],
      "metadata": {
        "colab": {
          "base_uri": "https://localhost:8080/"
        },
        "id": "BgwNlMWxJ418",
        "outputId": "c3a1d8ab-fd62-4fe2-ae0c-649db65b278e"
      },
      "execution_count": 14,
      "outputs": [
        {
          "output_type": "execute_result",
          "data": {
            "text/plain": [
              "array([0.        , 0.78539816, 1.57079633])"
            ]
          },
          "metadata": {},
          "execution_count": 14
        }
      ]
    },
    {
      "cell_type": "code",
      "source": [
        "np.sin(angles)\n"
      ],
      "metadata": {
        "id": "TglMNnDUJ_lD",
        "outputId": "b1162d70-7490-4a77-db4d-7a6997983a54",
        "colab": {
          "base_uri": "https://localhost:8080/"
        }
      },
      "execution_count": 15,
      "outputs": [
        {
          "output_type": "execute_result",
          "data": {
            "text/plain": [
              "array([0.        , 0.70710678, 1.        ])"
            ]
          },
          "metadata": {},
          "execution_count": 15
        }
      ]
    }
  ]
}