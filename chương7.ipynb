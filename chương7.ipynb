{
  "nbformat": 4,
  "nbformat_minor": 0,
  "metadata": {
    "colab": {
      "name": "chương7.ipynb",
      "provenance": [],
      "collapsed_sections": [],
      "authorship_tag": "ABX9TyMs1hz9k16klTHgITqT5wnW",
      "include_colab_link": true
    },
    "kernelspec": {
      "name": "python3",
      "display_name": "Python 3"
    },
    "language_info": {
      "name": "python"
    }
  },
  "cells": [
    {
      "cell_type": "markdown",
      "metadata": {
        "id": "view-in-github",
        "colab_type": "text"
      },
      "source": [
        "<a href=\"https://colab.research.google.com/github/TinNguyenday/TH-toancaocap/blob/main/ch%C6%B0%C6%A1ng7.ipynb\" target=\"_parent\"><img src=\"https://colab.research.google.com/assets/colab-badge.svg\" alt=\"Open In Colab\"/></a>"
      ]
    },
    {
      "cell_type": "markdown",
      "source": [
        ""
      ],
      "metadata": {
        "id": "9J9SWl_VKWMI"
      }
    },
    {
      "cell_type": "markdown",
      "source": [
        "TH1\n"
      ],
      "metadata": {
        "id": "JgoNcpxXKXiB"
      }
    },
    {
      "cell_type": "code",
      "source": [
        "from sympy import Symbol,Integral\n",
        "x = Symbol('x')\n",
        "f= 1.0/x\n",
        "unbound1 = Integral(f,(x,0,2))\n",
        "unbound1\n"
      ],
      "metadata": {
        "colab": {
          "base_uri": "https://localhost:8080/",
          "height": 79
        },
        "id": "S_WWJ2zdKYwF",
        "outputId": "38914f26-3522-437f-90e4-4440709c397f"
      },
      "execution_count": 4,
      "outputs": [
        {
          "output_type": "execute_result",
          "data": {
            "text/plain": [
              "Integral(1.0/x, (x, 0, 2))"
            ],
            "text/latex": "$\\displaystyle \\int\\limits_{0}^{2} \\frac{1.0}{x}\\, dx$"
          },
          "metadata": {},
          "execution_count": 4
        }
      ]
    },
    {
      "cell_type": "code",
      "source": [
        "unbound1.doit()"
      ],
      "metadata": {
        "colab": {
          "base_uri": "https://localhost:8080/",
          "height": 38
        },
        "id": "zkRXbgMqLWS_",
        "outputId": "baea4b7b-de64-4b1b-fc69-cc26ec16805e"
      },
      "execution_count": 5,
      "outputs": [
        {
          "output_type": "execute_result",
          "data": {
            "text/plain": [
              "oo"
            ],
            "text/latex": "$\\displaystyle \\infty$"
          },
          "metadata": {},
          "execution_count": 5
        }
      ]
    },
    {
      "cell_type": "markdown",
      "source": [
        "TH2\n"
      ],
      "metadata": {
        "id": "OkR9FLlYLeRD"
      }
    },
    {
      "cell_type": "code",
      "source": [
        "from sympy import Symbol,Integral \n",
        "x = Symbol('x')\n",
        "f= 1.0/x**2\n",
        "unbound2 = Integral(f,(x,-1,1))\n",
        "unbound2"
      ],
      "metadata": {
        "colab": {
          "base_uri": "https://localhost:8080/",
          "height": 81
        },
        "id": "ZZ2G3HGJMjeI",
        "outputId": "86c21195-e6d2-4eb5-f42d-11e527ce41ca"
      },
      "execution_count": 21,
      "outputs": [
        {
          "output_type": "execute_result",
          "data": {
            "text/plain": [
              "Integral(1.0/x**2, (x, -1, 1))"
            ],
            "text/latex": "$\\displaystyle \\int\\limits_{-1}^{1} \\frac{1.0}{x^{2}}\\, dx$"
          },
          "metadata": {},
          "execution_count": 21
        }
      ]
    },
    {
      "cell_type": "code",
      "source": [
        "unbound2.doit()\n"
      ],
      "metadata": {
        "colab": {
          "base_uri": "https://localhost:8080/",
          "height": 38
        },
        "id": "uWkTZVJfMqoM",
        "outputId": "d07a7afa-05d1-4164-98e4-584d147f3178"
      },
      "execution_count": 17,
      "outputs": [
        {
          "output_type": "execute_result",
          "data": {
            "text/plain": [
              "oo"
            ],
            "text/latex": "$\\displaystyle \\infty$"
          },
          "metadata": {},
          "execution_count": 17
        }
      ]
    },
    {
      "cell_type": "markdown",
      "source": [
        "TH3\n"
      ],
      "metadata": {
        "id": "GpDUczn_M5YU"
      }
    },
    {
      "cell_type": "code",
      "source": [
        "from sympy import Symbol,Integral,Abs\n",
        "x = Symbol('x')\n",
        "f= Abs(x)\n",
        "discontinous1 = Integral(f,(x,-1,2))\n",
        "discontinous1"
      ],
      "metadata": {
        "colab": {
          "base_uri": "https://localhost:8080/",
          "height": 81
        },
        "id": "OuhuIO_OM6la",
        "outputId": "02cbd38c-5f71-4024-8f36-e95142951fe9"
      },
      "execution_count": 23,
      "outputs": [
        {
          "output_type": "execute_result",
          "data": {
            "text/plain": [
              "Integral(Abs(x), (x, -1, 2))"
            ],
            "text/latex": "$\\displaystyle \\int\\limits_{-1}^{2} \\left|{x}\\right|\\, dx$"
          },
          "metadata": {},
          "execution_count": 23
        }
      ]
    },
    {
      "cell_type": "code",
      "source": [
        "discontinous1.doit()"
      ],
      "metadata": {
        "colab": {
          "base_uri": "https://localhost:8080/",
          "height": 51
        },
        "id": "8EIkThimNYLd",
        "outputId": "96a27014-04fe-4f30-a5b5-4d87e9ede8f6"
      },
      "execution_count": 27,
      "outputs": [
        {
          "output_type": "execute_result",
          "data": {
            "text/plain": [
              "5/2"
            ],
            "text/latex": "$\\displaystyle \\frac{5}{2}$"
          },
          "metadata": {},
          "execution_count": 27
        }
      ]
    },
    {
      "cell_type": "markdown",
      "source": [
        "TH4"
      ],
      "metadata": {
        "id": "HwLEjCfLNiR2"
      }
    },
    {
      "cell_type": "code",
      "source": [
        "from sympy import Symbol,Integral\n",
        "x = Symbol('x')\n",
        "f= x**(0.5)\n",
        "undef1=Integral(f,(x,-1,1))\n",
        "undef1"
      ],
      "metadata": {
        "colab": {
          "base_uri": "https://localhost:8080/",
          "height": 81
        },
        "id": "xl9CPpIvNjOl",
        "outputId": "bb4a39cf-0913-4ecd-baae-7221a8582c68"
      },
      "execution_count": 29,
      "outputs": [
        {
          "output_type": "execute_result",
          "data": {
            "text/plain": [
              "Integral(x**0.5, (x, -1, 1))"
            ],
            "text/latex": "$\\displaystyle \\int\\limits_{-1}^{1} x^{0.5}\\, dx$"
          },
          "metadata": {},
          "execution_count": 29
        }
      ]
    },
    {
      "cell_type": "code",
      "source": [
        "undef1.doit()"
      ],
      "metadata": {
        "colab": {
          "base_uri": "https://localhost:8080/",
          "height": 39
        },
        "id": "FbUVX8NqN82V",
        "outputId": "370ee801-3e6a-451b-cb49-2210e4e2c894"
      },
      "execution_count": 30,
      "outputs": [
        {
          "output_type": "execute_result",
          "data": {
            "text/plain": [
              "0.666666666666667 + 0.666666666666667*I"
            ],
            "text/latex": "$\\displaystyle 0.666666666666667 + 0.666666666666667 i$"
          },
          "metadata": {},
          "execution_count": 30
        }
      ]
    },
    {
      "cell_type": "markdown",
      "source": [
        "TH5\n"
      ],
      "metadata": {
        "id": "BwtkAQF6OEbI"
      }
    },
    {
      "cell_type": "code",
      "source": [
        "from scipy import integrate\n",
        "import numpy as np\n",
        "y = np.array([0.0,4.1,8.9,8.5,6.7,4.3,2.5,1.2,0.2])\n",
        "x= np.arange(0,9)\n"
      ],
      "metadata": {
        "id": "8YyxPp5vOFfp"
      },
      "execution_count": 35,
      "outputs": []
    },
    {
      "cell_type": "code",
      "source": [
        "x"
      ],
      "metadata": {
        "colab": {
          "base_uri": "https://localhost:8080/"
        },
        "id": "hhqAms-IRbws",
        "outputId": "adbd9e7a-1189-434f-af0b-c16552f2a118"
      },
      "execution_count": 36,
      "outputs": [
        {
          "output_type": "execute_result",
          "data": {
            "text/plain": [
              "array([0, 1, 2, 3, 4, 5, 6, 7, 8])"
            ]
          },
          "metadata": {},
          "execution_count": 36
        }
      ]
    },
    {
      "cell_type": "code",
      "source": [
        "y"
      ],
      "metadata": {
        "colab": {
          "base_uri": "https://localhost:8080/"
        },
        "id": "esq1xI0vRjW6",
        "outputId": "fff2ff62-b0fd-44cc-fd1c-03343843dd4e"
      },
      "execution_count": 37,
      "outputs": [
        {
          "output_type": "execute_result",
          "data": {
            "text/plain": [
              "array([0. , 4.1, 8.9, 8.5, 6.7, 4.3, 2.5, 1.2, 0.2])"
            ]
          },
          "metadata": {},
          "execution_count": 37
        }
      ]
    },
    {
      "cell_type": "code",
      "source": [
        "S = 2*integrate.simps(y,x)"
      ],
      "metadata": {
        "id": "GlugDy-xbj7B"
      },
      "execution_count": 43,
      "outputs": []
    },
    {
      "cell_type": "code",
      "source": [
        "A=5.5"
      ],
      "metadata": {
        "id": "l6pBiGeTcDxZ"
      },
      "execution_count": 45,
      "outputs": []
    },
    {
      "cell_type": "code",
      "source": [
        "F = A/S*60"
      ],
      "metadata": {
        "id": "pPnu7gG-cGj0"
      },
      "execution_count": 47,
      "outputs": []
    },
    {
      "cell_type": "markdown",
      "source": [
        "TH6\n"
      ],
      "metadata": {
        "id": "SpMpZsYecZZz"
      }
    },
    {
      "cell_type": "code",
      "source": [
        "from sympy import Symbol,Integral, Derivative\n",
        "x = Symbol('x')"
      ],
      "metadata": {
        "id": "kg3phOO1clo-"
      },
      "execution_count": null,
      "outputs": []
    }
  ]
}