{
  "nbformat": 4,
  "nbformat_minor": 0,
  "metadata": {
    "colab": {
      "name": "Untitled4.ipynb",
      "provenance": [],
      "authorship_tag": "ABX9TyPKq56ZtoGI/AMHXEYWZIXh",
      "include_colab_link": true
    },
    "kernelspec": {
      "name": "python3",
      "display_name": "Python 3"
    },
    "language_info": {
      "name": "python"
    }
  },
  "cells": [
    {
      "cell_type": "markdown",
      "metadata": {
        "id": "view-in-github",
        "colab_type": "text"
      },
      "source": [
        "<a href=\"https://colab.research.google.com/github/TinNguyenday/TH-toancaocap/blob/main/s4nguyentrongtin2174802010105.ipynb\" target=\"_parent\"><img src=\"https://colab.research.google.com/assets/colab-badge.svg\" alt=\"Open In Colab\"/></a>"
      ]
    },
    {
      "cell_type": "markdown",
      "source": [
        "câu2 "
      ],
      "metadata": {
        "id": "jGUAUztJZkN5"
      }
    },
    {
      "cell_type": "code",
      "source": [
        "from sympy import Derivative, Symbol\n",
        "x = Symbol ('x')\n",
        "f = (2*x-1)/(x +2)\n",
        "Derivative(f,x). doit()"
      ],
      "metadata": {
        "colab": {
          "base_uri": "https://localhost:8080/",
          "height": 58
        },
        "id": "umEPQpNSZmTv",
        "outputId": "4e197f30-59da-426c-c9ea-049cdab68adc"
      },
      "execution_count": 2,
      "outputs": [
        {
          "output_type": "execute_result",
          "data": {
            "text/plain": [
              "2/(x + 2) - (2*x - 1)/(x + 2)**2"
            ],
            "text/latex": "$\\displaystyle \\frac{2}{x + 2} - \\frac{2 x - 1}{\\left(x + 2\\right)^{2}}$"
          },
          "metadata": {},
          "execution_count": 2
        }
      ]
    },
    {
      "cell_type": "code",
      "source": [
        "from sympy import Derivative, Symbol\n",
        "x = Symbol ('x')\n",
        "f = (x**2+3*x-1)/(x+1)\n",
        "Derivative(f,x). doit()"
      ],
      "metadata": {
        "colab": {
          "base_uri": "https://localhost:8080/",
          "height": 61
        },
        "id": "1_NGB03ybbfA",
        "outputId": "f3eface0-0a5f-4860-fb31-2d3ee77b9ef2"
      },
      "execution_count": 3,
      "outputs": [
        {
          "output_type": "execute_result",
          "data": {
            "text/plain": [
              "(2*x + 3)/(x + 1) - (x**2 + 3*x - 1)/(x + 1)**2"
            ],
            "text/latex": "$\\displaystyle \\frac{2 x + 3}{x + 1} - \\frac{x^{2} + 3 x - 1}{\\left(x + 1\\right)^{2}}$"
          },
          "metadata": {},
          "execution_count": 3
        }
      ]
    },
    {
      "cell_type": "markdown",
      "source": [
        "cau 1 \n"
      ],
      "metadata": {
        "id": "MvuHhdBDbyhQ"
      }
    },
    {
      "cell_type": "code",
      "source": [
        "import scipy.integrate\n",
        "\n",
        "import numpy as np\n",
        "\n",
        "f = lambda x: (2*x-1)/(x+1)\n",
        "\n",
        "i, e = scipy.integrate.quad(f,0,1)\n",
        "\n",
        "print(i)"
      ],
      "metadata": {
        "colab": {
          "base_uri": "https://localhost:8080/"
        },
        "id": "1dgv-DHTbzt8",
        "outputId": "aba59cab-b393-4c9a-83f2-840ca5808295"
      },
      "execution_count": 4,
      "outputs": [
        {
          "output_type": "stream",
          "name": "stdout",
          "text": [
            "-0.07944154167983591\n"
          ]
        }
      ]
    },
    {
      "cell_type": "code",
      "source": [
        "import scipy.integrate\n",
        "\n",
        "import numpy as np\n",
        "\n",
        "f = lambda x: (2*x+1)/x*(x+1)\n",
        "\n",
        "i, e = scipy.integrate.quad(f,1,2)\n",
        "\n",
        "print(i)"
      ],
      "metadata": {
        "colab": {
          "base_uri": "https://localhost:8080/"
        },
        "id": "mBRqnZBIcT0m",
        "outputId": "a4646a77-afe3-4c49-abe5-6c0c80da6e0f"
      },
      "execution_count": 5,
      "outputs": [
        {
          "output_type": "stream",
          "name": "stdout",
          "text": [
            "6.693147180559945\n"
          ]
        }
      ]
    },
    {
      "cell_type": "markdown",
      "source": [
        "cau3"
      ],
      "metadata": {
        "id": "oxv1rSCjcuiz"
      }
    },
    {
      "cell_type": "code",
      "source": [
        ""
      ],
      "metadata": {
        "id": "06SKHMmwcvjZ"
      },
      "execution_count": null,
      "outputs": []
    }
  ]
}